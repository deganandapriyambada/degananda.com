{
 "cells": [
  {
   "cell_type": "markdown",
   "id": "7608a02e-71f2-41ec-be6c-11851d92dbc5",
   "metadata": {},
   "source": [
    "SDBMS Battery Simulation"
   ]
  },
  {
   "cell_type": "markdown",
   "id": "6896ee51-5d1d-4591-b81d-b7108abd2013",
   "metadata": {},
   "source": [
    "Initiating PyBamm"
   ]
  },
  {
   "cell_type": "code",
   "execution_count": null,
   "id": "d0d299c4-6a39-4b84-9d6f-95350766d9cb",
   "metadata": {},
   "outputs": [],
   "source": [
    "import pybamm\n",
    "from pybamm import BaseModel\n",
    "from pprint import pprint"
   ]
  },
  {
   "cell_type": "markdown",
   "id": "c9b1404e-196d-4fd3-b89a-54dbb83e027c",
   "metadata": {},
   "source": [
    "Choose Battery Chemical & Model"
   ]
  },
  {
   "cell_type": "code",
   "execution_count": null,
   "id": "9738e8fc-d29b-426d-bebd-1186d700dde2",
   "metadata": {},
   "outputs": [],
   "source": [
    "## [1] Doyle Fuller newman [2] Single Particle Model (SPM) [3] Single Particle Model with Electrolyte (SPMe)\n",
    "availableModel = [\"DFN\",\"SPM\", \"SPME\"]\n",
    "selectedModel = availableModel[0]\n",
    "model : BaseModel\n",
    "\n",
    "match selectedModel:\n",
    "    case \"DFN\":\n",
    "        model : BaseModel = pybamm.lithium_ion.DFN()\n",
    "    case \"SPM\":\n",
    "        model : BaseModel = pybamm.lithium_ion.SPM()\n",
    "    case \"SPME\":\n",
    "        model : BaseModel = pybamm.lithium_ion.SPMe()\n",
    "        \n"
   ]
  },
  {
   "cell_type": "markdown",
   "id": "8803a01a-25a4-44ed-813c-43270ccf5987",
   "metadata": {},
   "source": [
    "Print Available Model Input Parameter.\n",
    "Input Parameter = predefined config / parameter for physical, chemical and electrochemical properties of battery."
   ]
  },
  {
   "cell_type": "code",
   "execution_count": null,
   "id": "adfc51cb-de9d-49b0-b36d-0c388586e767",
   "metadata": {},
   "outputs": [],
   "source": [
    "modelInputParameters = list(pybamm.parameter_sets)\n",
    "pprint(modelInputParameters)"
   ]
  },
  {
   "cell_type": "markdown",
   "id": "244fd5b5-729c-4833-88ab-c67e4d16de91",
   "metadata": {},
   "source": [
    "Display Selected Model input parameter value"
   ]
  },
  {
   "cell_type": "code",
   "execution_count": null,
   "id": "1eecbcaa-5506-416b-8583-7472c61691fd",
   "metadata": {
    "scrolled": true
   },
   "outputs": [],
   "source": [
    "selectedInputParameter =  pybamm.ParameterValues(\"Chen2020\")\n",
    "## DFN => Chen2020, Ai2020. SPME = Marquis2019, SPM = Marquis2019\n",
    "pprint(selectedInputParameter)"
   ]
  },
  {
   "cell_type": "markdown",
   "id": "59f4eeaf-5496-4aeb-b245-a5615398113d",
   "metadata": {},
   "source": [
    "Print Available Model Output Parameter"
   ]
  },
  {
   "cell_type": "code",
   "execution_count": null,
   "id": "0d365560-fbc3-4726-8e93-a6d688bcea0b",
   "metadata": {
    "scrolled": true
   },
   "outputs": [],
   "source": [
    "availableOutputModelVariable = model.variable_names()\n",
    "pprint(availableOutputModelVariable)"
   ]
  },
  {
   "cell_type": "markdown",
   "id": "d756e75f-39f0-4d58-a42b-9be469c4f38f",
   "metadata": {},
   "source": [
    "Available Instructions"
   ]
  },
  {
   "cell_type": "markdown",
   "id": "0df6294b-298a-4f03-b352-14c3489b4238",
   "metadata": {},
   "source": [
    "- \"Discharge at 1C for 0.5 hours\",\n",
    "- \"Discharge at C/20 for 0.5 hours\",\n",
    "- \"Charge at 0.5 C for 45 minutes\",\n",
    "- \"Discharge at 1 A for 90 seconds\",\n",
    "- \"Charge at 200mA for 45 minutes\",\n",
    "- \"Discharge at 1 W for 0.5 hours\",\n",
    "- \"Charge at 200 mW for 45 minutes\",\n",
    "- \"Rest for 10 minutes\",\n",
    "- \"Hold at 1 V for 20 seconds\",\n",
    "- \"Charge at 1 C until 4.1V\",\n",
    "- \"Hold at 4.1 V until 50 mA\",\n",
    "- #\"Hold at 3V until C/50\","
   ]
  },
  {
   "cell_type": "markdown",
   "id": "0f01ff53-7b63-4231-8965-034627b3c078",
   "metadata": {},
   "source": [
    "Run Simulation"
   ]
  },
  {
   "cell_type": "code",
   "execution_count": null,
   "id": "ad24e34f-756e-4e74-9dbe-ea9bfb817a8c",
   "metadata": {},
   "outputs": [],
   "source": [
    "experiment = pybamm.Experiment(\n",
    "    [\n",
    "        (\n",
    "            \"Discharge at C/10 for 10 hours or until 3.3 V\",\n",
    "            \"Rest for 1 hour\",\n",
    "            \"Charge at 1 A until 4.1 V\",\n",
    "            \"Hold at 4.1 V until 50 mA\",\n",
    "            \"Rest for 1 hour\",\n",
    "        )\n",
    "    ]\n",
    ")\n",
    "sim = pybamm.Simulation(model, experiment=experiment, parameter_values=selectedInputParameter)\n",
    "startDuration = 0\n",
    "endDuration = 3600 #in second\n",
    "sim.solve([startDuration, endDuration])"
   ]
  },
  {
   "cell_type": "markdown",
   "id": "8e83492d-a632-418d-82fb-2a69441c31b0",
   "metadata": {},
   "source": [
    "Visualize"
   ]
  },
  {
   "cell_type": "code",
   "execution_count": null,
   "id": "75de280f-2232-4c8b-a004-6ac7d757c239",
   "metadata": {},
   "outputs": [],
   "source": [
    "pybamm.dynamic_plot(sim)"
   ]
  },
  {
   "cell_type": "markdown",
   "id": "b54e93a2-9f5b-49bb-9d26-99c00d8d31f4",
   "metadata": {},
   "source": [
    "Export Plot to HTML (for slider feature)"
   ]
  },
  {
   "cell_type": "markdown",
   "id": "d21526a2-904b-4752-ab75-e95bcc2d917e",
   "metadata": {},
   "source": [
    "Custom Plot with Selected Model Result Parameter"
   ]
  },
  {
   "cell_type": "code",
   "execution_count": null,
   "id": "11cab9fd-ae37-4ae6-a975-e7c3d10eec2f",
   "metadata": {},
   "outputs": [],
   "source": [
    "output_variables = [\"Time [min]\", \"Electrolyte concentration [mol.m-3]\", \"Voltage [V]\"]\n",
    "sim.plot(output_variables=output_variables)"
   ]
  },
  {
   "cell_type": "markdown",
   "id": "edf166dc-ae8e-4521-8312-7f18d979e9ed",
   "metadata": {},
   "source": [
    "Plot voltage component"
   ]
  },
  {
   "cell_type": "code",
   "execution_count": null,
   "id": "dbafd42d-3b61-4239-b307-27d6a41c1fc3",
   "metadata": {},
   "outputs": [],
   "source": [
    "sim.plot_voltage_components()\n"
   ]
  },
  {
   "cell_type": "code",
   "execution_count": null,
   "id": "52cec372-9d25-4791-97c8-bc023ffbff9d",
   "metadata": {},
   "outputs": [],
   "source": [
    "pprint(\"end\")"
   ]
  },
  {
   "cell_type": "code",
   "execution_count": null,
   "id": "18468080-432f-47c3-8b13-c953b77e0242",
   "metadata": {},
   "outputs": [],
   "source": []
  }
 ],
 "metadata": {
  "kernelspec": {
   "display_name": "Python 3 (ipykernel)",
   "language": "python",
   "name": "python3"
  },
  "language_info": {
   "codemirror_mode": {
    "name": "ipython",
    "version": 3
   },
   "file_extension": ".py",
   "mimetype": "text/x-python",
   "name": "python",
   "nbconvert_exporter": "python",
   "pygments_lexer": "ipython3",
   "version": "3.11.8"
  }
 },
 "nbformat": 4,
 "nbformat_minor": 5
}
