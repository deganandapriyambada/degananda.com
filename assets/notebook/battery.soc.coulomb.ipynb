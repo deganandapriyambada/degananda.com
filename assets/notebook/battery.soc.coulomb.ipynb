{
 "cells": [
  {
   "cell_type": "markdown",
   "id": "7608a02e-71f2-41ec-be6c-11851d92dbc5",
   "metadata": {},
   "source": [
    "SDBMS Battery Simulation"
   ]
  },
  {
   "cell_type": "markdown",
   "id": "5fa79885-b836-4af0-91bf-70cf0cad9e4b",
   "metadata": {},
   "source": [
    "Install Pybamm on Jupyer"
   ]
  },
  {
   "cell_type": "code",
   "execution_count": null,
   "id": "9dd43e99-e51e-4990-9c16-9447d355b287",
   "metadata": {},
   "outputs": [],
   "source": [
    "%pip install pybamm\n",
    "%pip install pandas"
   ]
  },
  {
   "cell_type": "markdown",
   "id": "6896ee51-5d1d-4591-b81d-b7108abd2013",
   "metadata": {},
   "source": [
    "Initiating PyBamm"
   ]
  },
  {
   "cell_type": "code",
   "execution_count": null,
   "id": "d0d299c4-6a39-4b84-9d6f-95350766d9cb",
   "metadata": {},
   "outputs": [],
   "source": [
    "import pybamm\n",
    "from pybamm import BaseModel\n",
    "from pprint import pprint"
   ]
  },
  {
   "cell_type": "markdown",
   "id": "c9b1404e-196d-4fd3-b89a-54dbb83e027c",
   "metadata": {},
   "source": [
    "Choose Battery Chemical & Model"
   ]
  },
  {
   "cell_type": "code",
   "execution_count": null,
   "id": "9738e8fc-d29b-426d-bebd-1186d700dde2",
   "metadata": {},
   "outputs": [],
   "source": [
    "## [1] Doyle Fuller newman [2] Single Particle Model (SPM) [3] Single Particle Model with Electrolyte (SPMe)\n",
    "availableModel = [\"DFN\",\"SPM\", \"SPME\"]\n",
    "selectedModel = availableModel[0]\n",
    "model : BaseModel\n",
    "\n",
    "match selectedModel:\n",
    "    case \"DFN\":\n",
    "        model : BaseModel = pybamm.lithium_ion.DFN()\n",
    "    case \"SPM\":\n",
    "        model : BaseModel = pybamm.lithium_ion.SPM()\n",
    "    case \"SPME\":\n",
    "        model : BaseModel = pybamm.lithium_ion.SPMe()\n",
    "        \n"
   ]
  },
  {
   "cell_type": "markdown",
   "id": "8803a01a-25a4-44ed-813c-43270ccf5987",
   "metadata": {},
   "source": [
    "Print Available Model Input Parameter.\n",
    "Input Parameter = predefined config / parameter for physical, chemical and electrochemical properties of battery."
   ]
  },
  {
   "cell_type": "code",
   "execution_count": null,
   "id": "adfc51cb-de9d-49b0-b36d-0c388586e767",
   "metadata": {},
   "outputs": [],
   "source": [
    "modelInputParameters = list(pybamm.parameter_sets)\n",
    "pprint(modelInputParameters)"
   ]
  },
  {
   "cell_type": "markdown",
   "id": "244fd5b5-729c-4833-88ab-c67e4d16de91",
   "metadata": {},
   "source": [
    "Display Selected Model input parameter value"
   ]
  },
  {
   "cell_type": "code",
   "execution_count": null,
   "id": "1eecbcaa-5506-416b-8583-7472c61691fd",
   "metadata": {
    "scrolled": true
   },
   "outputs": [],
   "source": [
    "selectedInputParameter =  pybamm.ParameterValues(\"Chen2020\")\n",
    "## DFN => Chen2020, Ai2020. SPME = Marquis2019, SPM = Marquis2019\n",
    "pprint(selectedInputParameter)"
   ]
  },
  {
   "cell_type": "markdown",
   "id": "f5168a1c-73ff-4ebb-bb01-e8a6e0c0a324",
   "metadata": {},
   "source": [
    "Get Q (Battery Capacity)"
   ]
  },
  {
   "cell_type": "code",
   "execution_count": null,
   "id": "e1925b3c-1236-48b0-bbf7-2f503b3350aa",
   "metadata": {},
   "outputs": [],
   "source": [
    "batteryCapacity = selectedInputParameter['Nominal cell capacity [A.h]']\n",
    "maxVoltage = selectedInputParameter['Open-circuit voltage at 100% SOC [V]']\n",
    "pprint(batteryCapacity)\n",
    "pprint(maxVoltage)"
   ]
  },
  {
   "cell_type": "markdown",
   "id": "59f4eeaf-5496-4aeb-b245-a5615398113d",
   "metadata": {},
   "source": [
    "Print Available Model Output Parameter"
   ]
  },
  {
   "cell_type": "code",
   "execution_count": null,
   "id": "0d365560-fbc3-4726-8e93-a6d688bcea0b",
   "metadata": {
    "scrolled": true
   },
   "outputs": [],
   "source": [
    "availableOutputModelVariable = model.variable_names()\n",
    "pprint(availableOutputModelVariable)"
   ]
  },
  {
   "cell_type": "markdown",
   "id": "d756e75f-39f0-4d58-a42b-9be469c4f38f",
   "metadata": {},
   "source": [
    "Available Instructions"
   ]
  },
  {
   "cell_type": "markdown",
   "id": "0df6294b-298a-4f03-b352-14c3489b4238",
   "metadata": {},
   "source": [
    "- \"Discharge at 1C for 0.5 hours\",\n",
    "- \"Discharge at C/20 for 0.5 hours\",\n",
    "- \"Charge at 0.5 C for 45 minutes\",\n",
    "- \"Discharge at 1 A for 90 seconds\",\n",
    "- \"Charge at 200mA for 45 minutes\",\n",
    "- \"Discharge at 1 W for 0.5 hours\",\n",
    "- \"Charge at 200 mW for 45 minutes\",\n",
    "- \"Rest for 10 minutes\",\n",
    "- \"Hold at 1 V for 20 seconds\",\n",
    "- \"Charge at 1 C until 4.1V\",\n",
    "- \"Hold at 4.1 V until 50 mA\",\n",
    "- #\"Hold at 3V until C/50\","
   ]
  },
  {
   "cell_type": "markdown",
   "id": "0f01ff53-7b63-4231-8965-034627b3c078",
   "metadata": {},
   "source": [
    "Run Simulation"
   ]
  },
  {
   "cell_type": "code",
   "execution_count": null,
   "id": "ad24e34f-756e-4e74-9dbe-ea9bfb817a8c",
   "metadata": {},
   "outputs": [],
   "source": [
    "experiment = pybamm.Experiment(\n",
    "    [\n",
    "        (\n",
    "            \"Charge at 1 C until 4.2 V\",\n",
    "            \"Discharge at C/0.5 for 2 hours or until 2.5 V\"\n",
    "        )\n",
    "    ],\n",
    "    period=\"1 second\"  # <-- This sets data points every 1 second\n",
    ")\n",
    "sim = pybamm.Simulation(model, experiment=experiment, parameter_values=selectedInputParameter)\n",
    "sim.solve()"
   ]
  },
  {
   "cell_type": "markdown",
   "id": "8e83492d-a632-418d-82fb-2a69441c31b0",
   "metadata": {},
   "source": [
    "Visualize"
   ]
  },
  {
   "cell_type": "code",
   "execution_count": null,
   "id": "75de280f-2232-4c8b-a004-6ac7d757c239",
   "metadata": {},
   "outputs": [],
   "source": [
    "#pybamm.dynamic_plot(sim)"
   ]
  },
  {
   "cell_type": "markdown",
   "id": "d21526a2-904b-4752-ab75-e95bcc2d917e",
   "metadata": {},
   "source": [
    "Custom Plot with Selected Model Result Parameter"
   ]
  },
  {
   "cell_type": "code",
   "execution_count": null,
   "id": "11cab9fd-ae37-4ae6-a975-e7c3d10eec2f",
   "metadata": {},
   "outputs": [],
   "source": [
    "output_variables = [\"Time [s]\", \"Current [A]\", \"Voltage [V]\", \"X-averaged cell temperature [K]\"]\n",
    "sim.plot(output_variables=output_variables)"
   ]
  },
  {
   "cell_type": "markdown",
   "id": "f5234ed5-0fb7-4279-a062-3c485d4c9ccf",
   "metadata": {},
   "source": [
    "Store to pandas data frame and Compute SOC"
   ]
  },
  {
   "cell_type": "code",
   "execution_count": null,
   "id": "d4986891-3f06-4aff-bb34-8df7c4fa18ff",
   "metadata": {},
   "outputs": [],
   "source": [
    "import pandas as pd\n",
    "output_variables.append(\"TimeDiff\")\n",
    "output_variables.append(\"CapacityDiff\")\n",
    "output_variables.append(\"SOC\")\n",
    "data = {}\n",
    "num_rows = len(sim.solution[\"Time [min]\"].entries)\n",
    "\n",
    "for var in output_variables:\n",
    "    if var == \"TimeDiff\":\n",
    "        timeDiffValues = []\n",
    "        for i in range(num_rows):\n",
    "            if i == 0:\n",
    "                timeDiffValues.append(0)\n",
    "            else:\n",
    "                prevTime = sim.solution[\"Time [s]\"].entries[i-1]\n",
    "                currentTime = sim.solution[\"Time [s]\"].entries[i]\n",
    "                deltaTime = currentTime - prevTime\n",
    "                timeDiffValues.append(deltaTime)\n",
    "        data[var] = timeDiffValues\n",
    "    elif var == \"CapacityDiff\":\n",
    "        capacityDiffValues = []\n",
    "        for i in range(num_rows):\n",
    "            if i == 0:\n",
    "                capacityDiffValues.append(0)\n",
    "            else:\n",
    "                deltaCapacity =  sim.solution[\"Current [A]\"].entries[i]*(timeDiffValues[i]/3600)*-1\n",
    "                capacityDiffValues.append(deltaCapacity)\n",
    "        data[var] = capacityDiffValues\n",
    "    elif var == \"SOC\":\n",
    "        soc_values = []\n",
    "        for i in range(num_rows):\n",
    "            if i == 0:\n",
    "                soc_values.append(1)\n",
    "            else:\n",
    "                ## Compute using Coulomb Counting\n",
    "                updatedSOC = soc_values[i-1]+(capacityDiffValues[i]/batteryCapacity)\n",
    "                soc_values.append(updatedSOC)\n",
    "        data[var] = soc_values\n",
    "    else:\n",
    "        data[var] = sim.solution[var].entries\n",
    "        \n",
    "simulationOutputDf = pd.DataFrame(data)\n",
    "display(simulationOutputDf)\n",
    "simulationOutputDf.to_csv(\"simulation_output_coulomb.csv\", index=False)"
   ]
  },
  {
   "cell_type": "markdown",
   "id": "edf166dc-ae8e-4521-8312-7f18d979e9ed",
   "metadata": {},
   "source": [
    "Plot voltage component"
   ]
  },
  {
   "cell_type": "code",
   "execution_count": null,
   "id": "dbafd42d-3b61-4239-b307-27d6a41c1fc3",
   "metadata": {},
   "outputs": [],
   "source": [
    "sim.plot_voltage_components()\n"
   ]
  },
  {
   "cell_type": "code",
   "execution_count": null,
   "id": "52cec372-9d25-4791-97c8-bc023ffbff9d",
   "metadata": {},
   "outputs": [],
   "source": [
    "pprint(\"end\")"
   ]
  },
  {
   "cell_type": "code",
   "execution_count": null,
   "id": "18468080-432f-47c3-8b13-c953b77e0242",
   "metadata": {},
   "outputs": [],
   "source": []
  },
  {
   "cell_type": "code",
   "execution_count": null,
   "id": "19299e98-290c-4d16-ba36-17c6631ed793",
   "metadata": {},
   "outputs": [],
   "source": []
  },
  {
   "cell_type": "code",
   "execution_count": null,
   "id": "de734c6f-8d58-4a6a-839f-cd6ec07b714c",
   "metadata": {},
   "outputs": [],
   "source": []
  }
 ],
 "metadata": {
  "kernelspec": {
   "display_name": "Python 3 (ipykernel)",
   "language": "python",
   "name": "python3"
  },
  "language_info": {
   "codemirror_mode": {
    "name": "ipython",
    "version": 3
   },
   "file_extension": ".py",
   "mimetype": "text/x-python",
   "name": "python",
   "nbconvert_exporter": "python",
   "pygments_lexer": "ipython3",
   "version": "3.11.8"
  }
 },
 "nbformat": 4,
 "nbformat_minor": 5
}
